{
 "cells": [
  {
   "cell_type": "markdown",
   "metadata": {},
   "source": [
    "<p style=\"text-align:center\">\n",
    "    <a href=\"https://skills.network\" target=\"_blank\">\n",
    "    <img src=\"https://cf-courses-data.s3.us.cloud-object-storage.appdomain.cloud/assets/logos/SN_web_lightmode.png\" width=\"200\" alt=\"Skills Network Logo\">\n",
    "    </a>\n",
    "</p>\n"
   ]
  },
  {
   "cell_type": "markdown",
   "metadata": {},
   "source": [
    "# **Space X  Falcon 9 First Stage Landing Prediction**\n"
   ]
  },
  {
   "cell_type": "markdown",
   "metadata": {},
   "source": [
    "## Web scraping Falcon 9 and Falcon Heavy Launches Records from Wikipedia\n"
   ]
  },
  {
   "cell_type": "markdown",
   "metadata": {},
   "source": [
    "Estimated time needed: **40** minutes\n"
   ]
  },
  {
   "cell_type": "markdown",
   "metadata": {},
   "source": [
    "In this lab, you will be performing web scraping to collect Falcon 9 historical launch records from a Wikipedia page titled `List of Falcon 9 and Falcon Heavy launches`\n",
    "\n",
    "https://en.wikipedia.org/wiki/List_of_Falcon_9_and_Falcon_Heavy_launches\n"
   ]
  },
  {
   "cell_type": "markdown",
   "metadata": {},
   "source": [
    "![](https://cf-courses-data.s3.us.cloud-object-storage.appdomain.cloud/IBM-DS0321EN-SkillsNetwork/labs/module_1_L2/images/Falcon9_rocket_family.svg)\n"
   ]
  },
  {
   "cell_type": "markdown",
   "metadata": {},
   "source": [
    "Falcon 9 first stage will land successfully\n"
   ]
  },
  {
   "cell_type": "markdown",
   "metadata": {},
   "source": [
    "![](https://cf-courses-data.s3.us.cloud-object-storage.appdomain.cloud/IBMDeveloperSkillsNetwork-DS0701EN-SkillsNetwork/api/Images/landing_1.gif)\n"
   ]
  },
  {
   "cell_type": "markdown",
   "metadata": {},
   "source": [
    "Several examples of an unsuccessful landing are shown here:\n"
   ]
  },
  {
   "cell_type": "markdown",
   "metadata": {},
   "source": [
    "![](https://cf-courses-data.s3.us.cloud-object-storage.appdomain.cloud/IBMDeveloperSkillsNetwork-DS0701EN-SkillsNetwork/api/Images/crash.gif)\n"
   ]
  },
  {
   "cell_type": "markdown",
   "metadata": {},
   "source": [
    "More specifically, the launch records are stored in a HTML table shown below:\n"
   ]
  },
  {
   "cell_type": "markdown",
   "metadata": {},
   "source": [
    "![](https://cf-courses-data.s3.us.cloud-object-storage.appdomain.cloud/IBM-DS0321EN-SkillsNetwork/labs/module_1_L2/images/falcon9-launches-wiki.png)\n"
   ]
  },
  {
   "cell_type": "markdown",
   "metadata": {},
   "source": [
    "  ## Objectives\n",
    "Web scrap Falcon 9 launch records with `BeautifulSoup`: \n",
    "- Extract a Falcon 9 launch records HTML table from Wikipedia\n",
    "- Parse the table and convert it into a Pandas data frame\n"
   ]
  },
  {
   "cell_type": "markdown",
   "metadata": {},
   "source": [
    "First let's import required packages for this lab\n"
   ]
  },
  {
   "cell_type": "code",
   "execution_count": 2,
   "metadata": {
    "tags": []
   },
   "outputs": [
    {
     "name": "stdout",
     "output_type": "stream",
     "text": [
      "Requirement already satisfied: beautifulsoup4 in /home/jupyterlab/conda/envs/python/lib/python3.7/site-packages (4.11.1)\n",
      "Requirement already satisfied: soupsieve>1.2 in /home/jupyterlab/conda/envs/python/lib/python3.7/site-packages (from beautifulsoup4) (2.3.2.post1)\n",
      "Requirement already satisfied: requests in /home/jupyterlab/conda/envs/python/lib/python3.7/site-packages (2.29.0)\n",
      "Requirement already satisfied: charset-normalizer<4,>=2 in /home/jupyterlab/conda/envs/python/lib/python3.7/site-packages (from requests) (3.1.0)\n",
      "Requirement already satisfied: idna<4,>=2.5 in /home/jupyterlab/conda/envs/python/lib/python3.7/site-packages (from requests) (3.4)\n",
      "Requirement already satisfied: urllib3<1.27,>=1.21.1 in /home/jupyterlab/conda/envs/python/lib/python3.7/site-packages (from requests) (1.26.15)\n",
      "Requirement already satisfied: certifi>=2017.4.17 in /home/jupyterlab/conda/envs/python/lib/python3.7/site-packages (from requests) (2023.5.7)\n",
      "Collecting html5lib\n",
      "  Downloading html5lib-1.1-py2.py3-none-any.whl (112 kB)\n",
      "\u001b[2K     \u001b[90m━━━━━━━━━━━━━━━━━━━━━━━━━━━━━━━━━━━━━━\u001b[0m \u001b[32m112.2/112.2 kB\u001b[0m \u001b[31m16.1 MB/s\u001b[0m eta \u001b[36m0:00:00\u001b[0m\n",
      "\u001b[?25hRequirement already satisfied: six>=1.9 in /home/jupyterlab/conda/envs/python/lib/python3.7/site-packages (from html5lib) (1.16.0)\n",
      "Requirement already satisfied: webencodings in /home/jupyterlab/conda/envs/python/lib/python3.7/site-packages (from html5lib) (0.5.1)\n",
      "Installing collected packages: html5lib\n",
      "Successfully installed html5lib-1.1\n"
     ]
    }
   ],
   "source": [
    "!pip3 install beautifulsoup4\n",
    "!pip3 install requests\n",
    "!pip3 install html5lib"
   ]
  },
  {
   "cell_type": "code",
   "execution_count": 3,
   "metadata": {
    "tags": []
   },
   "outputs": [],
   "source": [
    "import sys\n",
    "\n",
    "import requests\n",
    "from bs4 import BeautifulSoup\n",
    "import re\n",
    "import unicodedata\n",
    "import pandas as pd"
   ]
  },
  {
   "cell_type": "markdown",
   "metadata": {},
   "source": [
    "and we will provide some helper functions for you to process web scraped HTML table\n"
   ]
  },
  {
   "cell_type": "code",
   "execution_count": 4,
   "metadata": {
    "tags": []
   },
   "outputs": [],
   "source": [
    "def date_time(table_cells):\n",
    "    \"\"\"\n",
    "    This function returns the data and time from the HTML  table cell\n",
    "    Input: the  element of a table data cell extracts extra row\n",
    "    \"\"\"\n",
    "    return [data_time.strip() for data_time in list(table_cells.strings)][0:2]\n",
    "\n",
    "def booster_version(table_cells):\n",
    "    \"\"\"\n",
    "    This function returns the booster version from the HTML  table cell \n",
    "    Input: the  element of a table data cell extracts extra row\n",
    "    \"\"\"\n",
    "    out=''.join([booster_version for i,booster_version in enumerate( table_cells.strings) if i%2==0][0:-1])\n",
    "    return out\n",
    "\n",
    "def landing_status(table_cells):\n",
    "    \"\"\"\n",
    "    This function returns the landing status from the HTML table cell \n",
    "    Input: the  element of a table data cell extracts extra row\n",
    "    \"\"\"\n",
    "    out=[i for i in table_cells.strings][0]\n",
    "    return out\n",
    "\n",
    "\n",
    "def get_mass(table_cells):\n",
    "    mass=unicodedata.normalize(\"NFKD\", table_cells.text).strip()\n",
    "    if mass:\n",
    "        mass.find(\"kg\")\n",
    "        new_mass=mass[0:mass.find(\"kg\")+2]\n",
    "    else:\n",
    "        new_mass=0\n",
    "    return new_mass\n",
    "\n",
    "\n",
    "def extract_column_from_header(row):\n",
    "    \"\"\"\n",
    "    This function returns the landing status from the HTML table cell \n",
    "    Input: the  element of a table data cell extracts extra row\n",
    "    \"\"\"\n",
    "    if (row.br):\n",
    "        row.br.extract()\n",
    "    if row.a:\n",
    "        row.a.extract()\n",
    "    if row.sup:\n",
    "        row.sup.extract()\n",
    "        \n",
    "    colunm_name = ' '.join(row.contents)\n",
    "    \n",
    "    # Filter the digit and empty names\n",
    "    if not(colunm_name.strip().isdigit()):\n",
    "        colunm_name = colunm_name.strip()\n",
    "        return colunm_name    \n"
   ]
  },
  {
   "cell_type": "markdown",
   "metadata": {},
   "source": [
    "To keep the lab tasks consistent, you will be asked to scrape the data from a snapshot of the  `List of Falcon 9 and Falcon Heavy launches` Wikipage updated on\n",
    "`9th June 2021`\n"
   ]
  },
  {
   "cell_type": "code",
   "execution_count": 5,
   "metadata": {
    "tags": []
   },
   "outputs": [],
   "source": [
    "static_url = \"https://en.wikipedia.org/w/index.php?title=List_of_Falcon_9_and_Falcon_Heavy_launches&oldid=1027686922\""
   ]
  },
  {
   "cell_type": "markdown",
   "metadata": {},
   "source": [
    "Next, request the HTML page from the above URL and get a `response` object\n"
   ]
  },
  {
   "cell_type": "markdown",
   "metadata": {},
   "source": [
    "### TASK 1: Request the Falcon9 Launch Wiki page from its URL\n"
   ]
  },
  {
   "cell_type": "markdown",
   "metadata": {},
   "source": [
    "First, let's perform an HTTP GET method to request the Falcon9 Launch HTML page, as an HTTP response.\n"
   ]
  },
  {
   "cell_type": "code",
   "execution_count": 6,
   "metadata": {
    "tags": []
   },
   "outputs": [],
   "source": [
    "# use requests.get() method with the provided static_url\n",
    "# assign the response to a object\n",
    "web_result = requests.get(static_url).text"
   ]
  },
  {
   "cell_type": "markdown",
   "metadata": {},
   "source": [
    "Create a `BeautifulSoup` object from the HTML `response`\n"
   ]
  },
  {
   "cell_type": "code",
   "execution_count": 7,
   "metadata": {
    "tags": []
   },
   "outputs": [],
   "source": [
    "# Use BeautifulSoup() to create a BeautifulSoup object from a response text content\n",
    "soup = BeautifulSoup(web_result, 'html.parser')"
   ]
  },
  {
   "cell_type": "markdown",
   "metadata": {},
   "source": [
    "Print the page title to verify if the `BeautifulSoup` object was created properly \n"
   ]
  },
  {
   "cell_type": "code",
   "execution_count": 8,
   "metadata": {
    "tags": []
   },
   "outputs": [
    {
     "data": {
      "text/plain": [
       "<title>List of Falcon 9 and Falcon Heavy launches - Wikipedia</title>"
      ]
     },
     "execution_count": 8,
     "metadata": {},
     "output_type": "execute_result"
    }
   ],
   "source": [
    "# Use soup.title attribute\n",
    "soup.title"
   ]
  },
  {
   "cell_type": "markdown",
   "metadata": {},
   "source": [
    "### TASK 2: Extract all column/variable names from the HTML table header\n"
   ]
  },
  {
   "cell_type": "markdown",
   "metadata": {},
   "source": [
    "Next, we want to collect all relevant column names from the HTML table header\n"
   ]
  },
  {
   "cell_type": "markdown",
   "metadata": {},
   "source": [
    "Let's try to find all tables on the wiki page first. If you need to refresh your memory about `BeautifulSoup`, please check the external reference link towards the end of this lab\n"
   ]
  },
  {
   "cell_type": "code",
   "execution_count": 9,
   "metadata": {
    "tags": []
   },
   "outputs": [],
   "source": [
    "# Use the find_all function in the BeautifulSoup object, with element type `table`\n",
    "# Assign the result to a list called `html_tables`\n",
    "html_tables = soup.find_all('table')"
   ]
  },
  {
   "cell_type": "markdown",
   "metadata": {},
   "source": [
    "Starting from the third table is our target table contains the actual launch records.\n"
   ]
  },
  {
   "cell_type": "code",
   "execution_count": 10,
   "metadata": {
    "tags": []
   },
   "outputs": [],
   "source": [
    "# Let's print the third table and check its content\n",
    "first_launch_table = html_tables[2]"
   ]
  },
  {
   "cell_type": "markdown",
   "metadata": {},
   "source": [
    "You should able to see the columns names embedded in the table header elements `<th>` as follows:\n"
   ]
  },
  {
   "cell_type": "markdown",
   "metadata": {},
   "source": [
    "\n"
   ]
  },
  {
   "cell_type": "markdown",
   "metadata": {},
   "source": [
    "Next, we just need to iterate through the `<th>` elements and apply the provided `extract_column_from_header()` to extract column name one by one\n"
   ]
  },
  {
   "cell_type": "code",
   "execution_count": 29,
   "metadata": {
    "tags": []
   },
   "outputs": [],
   "source": [
    "column_names = []\n",
    "\n",
    "# Apply find_all() function with `th` element on first_launch_table\n",
    "headers = first_launch_table.find_all('th')\n",
    "# Iterate each th element and apply the provided extract_column_from_header() to get a column name\n",
    "\n",
    "for h in headers:\n",
    "    name = extract_column_from_header(h)\n",
    "    \n",
    "    if name != None and len(name) > 0:\n",
    "        column_names.append(name)\n",
    "# Append the Non-empty column name (`if name is not None and len(name) > 0`) into a list called column_names\n"
   ]
  },
  {
   "cell_type": "markdown",
   "metadata": {},
   "source": [
    "Check the extracted column names\n"
   ]
  },
  {
   "cell_type": "code",
   "execution_count": 30,
   "metadata": {
    "tags": []
   },
   "outputs": [
    {
     "name": "stdout",
     "output_type": "stream",
     "text": [
      "['Flight No.', 'Date and time ( )', 'Launch site', 'Payload', 'Payload mass', 'Orbit', 'Customer', 'Launch outcome']\n"
     ]
    }
   ],
   "source": [
    "print(column_names)"
   ]
  },
  {
   "cell_type": "markdown",
   "metadata": {},
   "source": [
    "## TASK 3: Create a data frame by parsing the launch HTML tables\n"
   ]
  },
  {
   "cell_type": "markdown",
   "metadata": {},
   "source": [
    "We will create an empty dictionary with keys from the extracted column names in the previous task. Later, this dictionary will be converted into a Pandas dataframe\n"
   ]
  },
  {
   "cell_type": "code",
   "execution_count": 31,
   "metadata": {
    "tags": []
   },
   "outputs": [],
   "source": [
    "launch_dict= dict.fromkeys(column_names)\n",
    "\n",
    "# Remove an irrelvant column\n",
    "del launch_dict['Date and time ( )']\n",
    "\n",
    "# Let's initial the launch_dict with each value to be an empty list\n",
    "launch_dict['Flight No.'] = []\n",
    "launch_dict['Launch site'] = []\n",
    "launch_dict['Payload'] = []\n",
    "launch_dict['Payload mass'] = []\n",
    "launch_dict['Orbit'] = []\n",
    "launch_dict['Customer'] = []\n",
    "launch_dict['Launch outcome'] = []\n",
    "# Added some new columns\n",
    "launch_dict['Version Booster']=[]\n",
    "launch_dict['Booster landing']=[]\n",
    "launch_dict['Date']=[]\n",
    "launch_dict['Time']=[]"
   ]
  },
  {
   "cell_type": "markdown",
   "metadata": {},
   "source": [
    "Next, we just need to fill up the `launch_dict` with launch records extracted from table rows.\n"
   ]
  },
  {
   "cell_type": "markdown",
   "metadata": {},
   "source": [
    "Usually, HTML tables in Wiki pages are likely to contain unexpected annotations and other types of noises, such as reference links `B0004.1[8]`, missing values `N/A [e]`, inconsistent formatting, etc.\n"
   ]
  },
  {
   "cell_type": "markdown",
   "metadata": {},
   "source": [
    "To simplify the parsing process, we have provided an incomplete code snippet below to help you to fill up the `launch_dict`. Please complete the following code snippet with TODOs or you can choose to write your own logic to parse all launch tables:\n"
   ]
  },
  {
   "cell_type": "code",
   "execution_count": 39,
   "metadata": {
    "tags": []
   },
   "outputs": [
    {
     "name": "stdout",
     "output_type": "stream",
     "text": [
      "F9 v1.0B0003.1\n",
      "<td><a href=\"/wiki/SpaceX\" title=\"SpaceX\">SpaceX</a>\n",
      "</td>\n",
      "F9 v1.0B0004.1\n",
      "<td><style data-mw-deduplicate=\"TemplateStyles:r1126788409\">.mw-parser-output .plainlist ol,.mw-parser-output .plainlist ul{line-height:inherit;list-style:none;margin:0;padding:0}.mw-parser-output .plainlist ol li,.mw-parser-output .plainlist ul li{margin-bottom:0}</style><div class=\"plainlist\">\n",
      "<ul><li><a href=\"/wiki/NASA\" title=\"NASA\">NASA</a> (<a href=\"/wiki/Commercial_Orbital_Transportation_Services\" title=\"Commercial Orbital Transportation Services\">COTS</a>)</li>\n",
      "<li><a href=\"/wiki/National_Reconnaissance_Office\" title=\"National Reconnaissance Office\">NRO</a></li></ul>\n",
      "</div>\n",
      "</td>\n",
      "F9 v1.0B0005.1\n",
      "<td><a href=\"/wiki/NASA\" title=\"NASA\">NASA</a> (<a href=\"/wiki/Commercial_Orbital_Transportation_Services\" title=\"Commercial Orbital Transportation Services\">COTS</a>)\n",
      "</td>\n",
      "F9 v1.0B0006.1\n",
      "<td><a href=\"/wiki/NASA\" title=\"NASA\">NASA</a> (<a href=\"/wiki/Commercial_Resupply_Services\" title=\"Commercial Resupply Services\">CRS</a>)\n",
      "</td>\n",
      "F9 v1.0B0007.1\n",
      "<td><a href=\"/wiki/NASA\" title=\"NASA\">NASA</a> (<a href=\"/wiki/Commercial_Resupply_Services\" title=\"Commercial Resupply Services\">CRS</a>)\n",
      "</td>\n",
      "F9 v1.1B1003\n",
      "<td><a href=\"/wiki/Maxar_Technologies\" title=\"Maxar Technologies\">MDA</a>\n",
      "</td>\n",
      "F9 v1.1\n",
      "<td><a class=\"mw-redirect\" href=\"/wiki/SES_S.A.\" title=\"SES S.A.\">SES</a>\n",
      "</td>\n",
      "F9 v1.1\n",
      "<td><a href=\"/wiki/Thaicom\" title=\"Thaicom\">Thaicom</a>\n",
      "</td>\n",
      "F9 v1.1\n",
      "<td><a href=\"/wiki/NASA\" title=\"NASA\">NASA</a> (<a href=\"/wiki/Commercial_Resupply_Services\" title=\"Commercial Resupply Services\">CRS</a>)\n",
      "</td>\n",
      "F9 v1.1\n",
      "<td><a href=\"/wiki/Orbcomm\" title=\"Orbcomm\">Orbcomm</a>\n",
      "</td>\n",
      "F9 v1.1\n",
      "<td><a href=\"/wiki/AsiaSat\" title=\"AsiaSat\">AsiaSat</a>\n",
      "</td>\n",
      "F9 v1.1\n",
      "<td><a href=\"/wiki/AsiaSat\" title=\"AsiaSat\">AsiaSat</a>\n",
      "</td>\n",
      "F9 v1.1\n",
      "<td><a href=\"/wiki/NASA\" title=\"NASA\">NASA</a> (<a href=\"/wiki/Commercial_Resupply_Services\" title=\"Commercial Resupply Services\">CRS</a>)\n",
      "</td>\n",
      "F9 v1.1\n",
      "<td><a href=\"/wiki/NASA\" title=\"NASA\">NASA</a> (<a href=\"/wiki/Commercial_Resupply_Services\" title=\"Commercial Resupply Services\">CRS</a>)\n",
      "</td>\n",
      "F9 v1.1\n",
      "<td><link href=\"mw-data:TemplateStyles:r1126788409\" rel=\"mw-deduplicated-inline-style\"/><div class=\"plainlist\">\n",
      "<ul><li><a href=\"/wiki/United_States_Air_Force\" title=\"United States Air Force\">USAF</a></li>\n",
      "<li><a href=\"/wiki/NASA\" title=\"NASA\">NASA</a></li>\n",
      "<li><a class=\"mw-redirect\" href=\"/wiki/NOAA\" title=\"NOAA\">NOAA</a></li></ul>\n",
      "</div>\n",
      "</td>\n",
      "F9 v1.1\n",
      "<td><link href=\"mw-data:TemplateStyles:r1126788409\" rel=\"mw-deduplicated-inline-style\"/><div class=\"plainlist\">\n",
      "<ul><li><a class=\"mw-redirect\" href=\"/wiki/Asia_Broadcast_Satellite\" title=\"Asia Broadcast Satellite\">ABS</a></li>\n",
      "<li><a href=\"/wiki/Eutelsat\" title=\"Eutelsat\">Eutelsat</a></li></ul>\n",
      "</div>\n",
      "</td>\n",
      "F9 v1.1\n",
      "<td><a href=\"/wiki/NASA\" title=\"NASA\">NASA</a> (<a href=\"/wiki/Commercial_Resupply_Services\" title=\"Commercial Resupply Services\">CRS</a>)\n",
      "</td>\n",
      "F9 v1.1\n",
      "<td><a href=\"/wiki/Turkmenistan_National_Space_Agency\" title=\"Turkmenistan National Space Agency\">Turkmenistan National<br/>Space Agency</a><sup class=\"reference\" id=\"cite_ref-95\"><a href=\"#cite_note-95\">[88]</a></sup>\n",
      "</td>\n",
      "F9 v1.1\n",
      "<td><a href=\"/wiki/NASA\" title=\"NASA\">NASA</a> (<a href=\"/wiki/Commercial_Resupply_Services\" title=\"Commercial Resupply Services\">CRS</a>)\n",
      "</td>\n",
      "F9 FT\n",
      "<td><a href=\"/wiki/Orbcomm\" title=\"Orbcomm\">Orbcomm</a>\n",
      "</td>\n",
      "F9 v1.1\n",
      "<td><link href=\"mw-data:TemplateStyles:r1126788409\" rel=\"mw-deduplicated-inline-style\"/><div class=\"plainlist\">\n",
      "<ul><li><a href=\"/wiki/NASA\" title=\"NASA\">NASA</a> (<a class=\"mw-redirect\" href=\"/wiki/Launch_Services_Program\" title=\"Launch Services Program\">LSP</a>)</li>\n",
      "<li><a class=\"mw-redirect\" href=\"/wiki/NOAA\" title=\"NOAA\">NOAA</a></li>\n",
      "<li><a href=\"/wiki/CNES\" title=\"CNES\">CNES</a></li></ul>\n",
      "</div>\n",
      "</td>\n",
      "F9 FT\n",
      "<td><a class=\"mw-redirect\" href=\"/wiki/SES_S.A.\" title=\"SES S.A.\">SES</a>\n",
      "</td>\n",
      "F9 FT\n",
      "<td><a href=\"/wiki/NASA\" title=\"NASA\">NASA</a> (<a href=\"/wiki/Commercial_Resupply_Services\" title=\"Commercial Resupply Services\">CRS</a>)\n",
      "</td>\n",
      "F9 FT\n",
      "<td><a href=\"/wiki/SKY_Perfect_JSAT\" title=\"SKY Perfect JSAT\">SKY Perfect JSAT Group</a>\n",
      "</td>\n",
      "F9 FT\n",
      "<td><a href=\"/wiki/Thaicom\" title=\"Thaicom\">Thaicom</a>\n",
      "</td>\n",
      "F9 FT\n",
      "<td><link href=\"mw-data:TemplateStyles:r1126788409\" rel=\"mw-deduplicated-inline-style\"/><div class=\"plainlist\">\n",
      "<ul><li><a class=\"mw-redirect\" href=\"/wiki/Asia_Broadcast_Satellite\" title=\"Asia Broadcast Satellite\">ABS</a></li>\n",
      "<li><a href=\"/wiki/Eutelsat\" title=\"Eutelsat\">Eutelsat</a></li></ul>\n",
      "</div>\n",
      "</td>\n",
      "F9 FT\n",
      "<td><a href=\"/wiki/NASA\" title=\"NASA\">NASA</a> (<a href=\"/wiki/Commercial_Resupply_Services\" title=\"Commercial Resupply Services\">CRS</a>)\n",
      "</td>\n",
      "F9 FT\n",
      "<td><a class=\"mw-redirect\" href=\"/wiki/SKY_Perfect_JSAT_Group\" title=\"SKY Perfect JSAT Group\">SKY Perfect JSAT Group</a>\n",
      "</td>\n",
      "F9 FT\n",
      "<td><a href=\"/wiki/Iridium_Communications\" title=\"Iridium Communications\">Iridium Communications</a>\n",
      "</td>\n",
      "F9 FT\n",
      "<td><a href=\"/wiki/NASA\" title=\"NASA\">NASA</a> (<a href=\"/wiki/Commercial_Resupply_Services\" title=\"Commercial Resupply Services\">CRS</a>)\n",
      "</td>\n",
      "F9 FT\n",
      "<td><a href=\"/wiki/EchoStar\" title=\"EchoStar\">EchoStar</a>\n",
      "</td>\n",
      "F9 FT♺\n",
      "<td><a class=\"mw-redirect\" href=\"/wiki/SES_S.A.\" title=\"SES S.A.\">SES</a>\n",
      "</td>\n",
      "F9 FT\n",
      "<td><a href=\"/wiki/National_Reconnaissance_Office\" title=\"National Reconnaissance Office\">NRO</a>\n",
      "</td>\n",
      "F9 FT\n",
      "<td><a href=\"/wiki/Inmarsat\" title=\"Inmarsat\">Inmarsat</a>\n",
      "</td>\n",
      "F9 FT\n",
      "<td><a href=\"/wiki/NASA\" title=\"NASA\">NASA</a> (<a href=\"/wiki/Commercial_Resupply_Services\" title=\"Commercial Resupply Services\">CRS</a>)\n",
      "</td>\n",
      "F9 FTB1029.2\n",
      "<td><a href=\"/wiki/Bulsatcom\" title=\"Bulsatcom\">Bulsatcom</a>\n",
      "</td>\n",
      "F9 FT\n",
      "<td><a href=\"/wiki/Iridium_Communications\" title=\"Iridium Communications\">Iridium Communications</a>\n",
      "</td>\n",
      "F9 FT\n",
      "<td><a href=\"/wiki/Intelsat\" title=\"Intelsat\">Intelsat</a>\n",
      "</td>\n",
      "F9 B4\n",
      "<td><a href=\"/wiki/NASA\" title=\"NASA\">NASA</a> (<a href=\"/wiki/Commercial_Resupply_Services\" title=\"Commercial Resupply Services\">CRS</a>)\n",
      "</td>\n",
      "F9 FT\n",
      "<td><a class=\"mw-redirect\" href=\"/wiki/National_Space_Organization\" title=\"National Space Organization\">NSPO</a>\n",
      "</td>\n",
      "F9 B4\n",
      "<td><a href=\"/wiki/United_States_Air_Force\" title=\"United States Air Force\">USAF</a>\n",
      "</td>\n",
      "F9 B4\n",
      "<td><a href=\"/wiki/Iridium_Communications\" title=\"Iridium Communications\">Iridium Communications</a>\n",
      "</td>\n",
      "F9 FTB1031.2\n",
      "<td><link href=\"mw-data:TemplateStyles:r1126788409\" rel=\"mw-deduplicated-inline-style\"/><div class=\"plainlist\">\n",
      "<ul><li><a class=\"mw-redirect\" href=\"/wiki/SES_S.A.\" title=\"SES S.A.\">SES S.A.</a></li>\n",
      "<li><a href=\"/wiki/EchoStar\" title=\"EchoStar\">EchoStar</a></li></ul>\n",
      "</div>\n",
      "</td>\n",
      "F9 B4\n",
      "<td><a href=\"/wiki/KT_Corporation\" title=\"KT Corporation\">KT Corporation</a>\n",
      "</td>\n",
      "F9 FTB1035.2\n",
      "<td><a href=\"/wiki/NASA\" title=\"NASA\">NASA</a> (<a href=\"/wiki/Commercial_Resupply_Services\" title=\"Commercial Resupply Services\">CRS</a>)\n",
      "</td>\n",
      "F9 FTB1036.2\n",
      "<td><a href=\"/wiki/Iridium_Communications\" title=\"Iridium Communications\">Iridium Communications</a>\n",
      "</td>\n",
      "F9 B4\n",
      "<td><a href=\"/wiki/Northrop_Grumman\" title=\"Northrop Grumman\">Northrop Grumman</a> <sup class=\"reference\" id=\"cite_ref-249\"><a href=\"#cite_note-249\">[f]</a></sup><sup class=\"reference\" id=\"cite_ref-zuma_246-2\"><a href=\"#cite_note-zuma-246\">[238]</a></sup>\n",
      "</td>\n",
      "F9 FTB1032.2\n",
      "<td><a class=\"mw-redirect\" href=\"/wiki/SES_S.A.\" title=\"SES S.A.\">SES</a>\n",
      "</td>\n",
      "F9 FTB1038.2\n",
      "<td><link href=\"mw-data:TemplateStyles:r1126788409\" rel=\"mw-deduplicated-inline-style\"/><div class=\"plainlist\">\n",
      "<ul><li><a href=\"/wiki/Hisdesat\" title=\"Hisdesat\">Hisdesat</a></li>\n",
      "<li><a href=\"/wiki/ExactEarth\" title=\"ExactEarth\">exactEarth</a></li>\n",
      "<li><a href=\"/wiki/SpaceX\" title=\"SpaceX\">SpaceX</a></li></ul>\n",
      "</div>\n",
      "</td>\n",
      "F9 B4\n",
      "<td><link href=\"mw-data:TemplateStyles:r1126788409\" rel=\"mw-deduplicated-inline-style\"/><div class=\"plainlist\">\n",
      "<ul><li><a href=\"/wiki/Hispasat\" title=\"Hispasat\">Hispasat</a><sup class=\"reference\" id=\"cite_ref-spx20150914_286-1\"><a href=\"#cite_note-spx20150914-286\">[277]</a></sup></li>\n",
      "<li><a href=\"/wiki/NovaWurks\" title=\"NovaWurks\">NovaWurks</a></li></ul>\n",
      "</div>\n",
      "</td>\n",
      "F9 B4B1041.2\n",
      "<td><a href=\"/wiki/Iridium_Communications\" title=\"Iridium Communications\">Iridium Communications</a>\n",
      "</td>\n",
      "F9 B4B1039.2\n",
      "<td><a href=\"/wiki/NASA\" title=\"NASA\">NASA</a> (<a href=\"/wiki/Commercial_Resupply_Services\" title=\"Commercial Resupply Services\">CRS</a>)\n",
      "</td>\n",
      "F9 B4\n",
      "<td><a href=\"/wiki/NASA\" title=\"NASA\">NASA</a> (<a class=\"mw-redirect\" href=\"/wiki/Launch_Services_Program\" title=\"Launch Services Program\">LSP</a>)\n",
      "</td>\n",
      "F9 B5B1046.1\n",
      "<td><a href=\"/wiki/Thales_Alenia_Space\" title=\"Thales Alenia Space\">Thales-Alenia</a> / <a href=\"/wiki/Bangladesh_Telecommunication_Regulatory_Commission\" title=\"Bangladesh Telecommunication Regulatory Commission\">BTRC</a>\n",
      "</td>\n",
      "F9 B4B1043.2\n",
      "<td><link href=\"mw-data:TemplateStyles:r1126788409\" rel=\"mw-deduplicated-inline-style\"/><div class=\"plainlist\">\n",
      "<ul><li><a href=\"/wiki/Iridium_Communications\" title=\"Iridium Communications\">Iridium Communications</a></li>\n",
      "<li><a href=\"/wiki/GFZ_German_Research_Centre_for_Geosciences\" title=\"GFZ German Research Centre for Geosciences\">GFZ</a> • <a href=\"/wiki/NASA\" title=\"NASA\">NASA</a></li></ul>\n",
      "</div>\n",
      "</td>\n",
      "F9 B4B1040.2\n",
      "<td><a class=\"mw-redirect\" href=\"/wiki/SES_S.A.\" title=\"SES S.A.\">SES</a>\n",
      "</td>\n",
      "F9 B4B1045.2\n",
      "<td><a href=\"/wiki/NASA\" title=\"NASA\">NASA</a> (<a href=\"/wiki/Commercial_Resupply_Services\" title=\"Commercial Resupply Services\">CRS</a>)\n",
      "</td>\n",
      "F9 B5\n",
      "<td><a href=\"/wiki/Telesat\" title=\"Telesat\">Telesat</a>\n",
      "</td>\n",
      "F9 B5B1048\n",
      "<td><a href=\"/wiki/Iridium_Communications\" title=\"Iridium Communications\">Iridium Communications</a>\n",
      "</td>\n",
      "F9 B5B1046.2\n",
      "<td><a href=\"/wiki/Telkom_Indonesia\" title=\"Telkom Indonesia\">Telkom Indonesia</a>\n",
      "</td>\n",
      "F9 B5\n",
      "<td><a href=\"/wiki/Telesat\" title=\"Telesat\">Telesat</a>\n",
      "</td>\n",
      "F9 B5B1048.2\n",
      "<td><a class=\"mw-redirect\" href=\"/wiki/Comisi%C3%B3n_Nacional_de_Actividades_Espaciales\" title=\"Comisión Nacional de Actividades Espaciales\">CONAE</a>\n",
      "</td>\n",
      "F9 B5B1047.2\n",
      "<td><a href=\"/wiki/Es%27hailSat\" title=\"Es'hailSat\">Es'hailSat</a>\n",
      "</td>\n",
      "F9 B5B1046.3\n",
      "<td><a href=\"/wiki/Spaceflight_Industries\" title=\"Spaceflight Industries\">Spaceflight Industries</a>\n",
      "</td>\n",
      "F9 B5\n",
      "<td><a href=\"/wiki/NASA\" title=\"NASA\">NASA</a> (<a href=\"/wiki/Commercial_Resupply_Services\" title=\"Commercial Resupply Services\">CRS</a>)\n",
      "</td>\n",
      "F9 B5\n",
      "<td><a href=\"/wiki/United_States_Air_Force\" title=\"United States Air Force\">USAF</a>\n",
      "</td>\n",
      "F9 B5B1049.2\n",
      "<td><a href=\"/wiki/Iridium_Communications\" title=\"Iridium Communications\">Iridium Communications</a>\n",
      "</td>\n",
      "F9 B5B1048.3\n",
      "<td><link href=\"mw-data:TemplateStyles:r1126788409\" rel=\"mw-deduplicated-inline-style\"/><div class=\"plainlist\">\n",
      "<ul><li><a href=\"/wiki/PT_Pasifik_Satelit_Nusantara\" title=\"PT Pasifik Satelit Nusantara\">PSN</a></li>\n",
      "<li><a href=\"/wiki/SpaceIL\" title=\"SpaceIL\">SpaceIL</a> / <a href=\"/wiki/Israel_Aerospace_Industries\" title=\"Israel Aerospace Industries\">IAI</a></li>\n",
      "<li><a href=\"/wiki/Air_Force_Research_Laboratory\" title=\"Air Force Research Laboratory\">Air Force Research</a></li></ul>\n",
      "</div>\n",
      "</td>\n",
      "F9 B5[268]\n",
      "<td><span class=\"nowrap\"> <a href=\"/wiki/NASA\" title=\"NASA\">NASA</a> (<a class=\"mw-redirect\" href=\"/wiki/Commercial_Crew_Development\" title=\"Commercial Crew Development\">CCD</a>) </span>\n",
      "</td>\n",
      "F9 B5\n",
      "<td><a href=\"/wiki/NASA\" title=\"NASA\">NASA</a> (<a href=\"/wiki/Commercial_Resupply_Services\" title=\"Commercial Resupply Services\">CRS</a>)\n",
      "</td>\n",
      "F9 B5B1049.3\n",
      "<td><a href=\"/wiki/SpaceX\" title=\"SpaceX\">SpaceX</a>\n",
      "</td>\n",
      "F9 B5B1051.2\n",
      "<td><a href=\"/wiki/Canadian_Space_Agency\" title=\"Canadian Space Agency\">Canadian Space Agency</a> (CSA)\n",
      "</td>\n",
      "F9 B5B1056.2\n",
      "<td><a href=\"/wiki/NASA\" title=\"NASA\">NASA</a> (<a href=\"/wiki/Commercial_Resupply_Services\" title=\"Commercial Resupply Services\">CRS</a>)\n",
      "</td>\n",
      "F9 B5B1047.3\n",
      "<td><a href=\"/wiki/Spacecom\" title=\"Spacecom\">Spacecom</a>\n",
      "</td>\n",
      "F9 B5\n",
      "<td><a href=\"/wiki/Spacecom\" title=\"Spacecom\">SpaceX</a>\n",
      "</td>\n",
      "F9 B5\n",
      "<td><a href=\"/wiki/NASA\" title=\"NASA\">NASA</a> (<a href=\"/wiki/Commercial_Resupply_Services\" title=\"Commercial Resupply Services\">CRS</a>)\n",
      "</td>\n",
      "F9 B5B1056.3\n",
      "<td><a class=\"mw-redirect\" href=\"/wiki/SKY_Perfect_JSAT_Group\" title=\"SKY Perfect JSAT Group\">Sky Perfect JSAT</a><br/><a href=\"/wiki/Kacific_Broadband_Satellites\" title=\"Kacific Broadband Satellites\">Kacific 1</a>\n",
      "</td>\n",
      "F9 B5\n",
      "<td><a href=\"/wiki/SpaceX\" title=\"SpaceX\">SpaceX</a>\n",
      "</td>\n",
      "F9 B5\n",
      "<td><a href=\"/wiki/NASA\" title=\"NASA\">NASA</a> (<a class=\"mw-redirect\" href=\"/wiki/ISS_Crew_Transportation_Services\" title=\"ISS Crew Transportation Services\">CTS</a>)<sup class=\"reference\" id=\"cite_ref-CCD6_509-0\"><a href=\"#cite_note-CCD6-509\">[497]</a></sup>\n",
      "</td>\n",
      "F9 B5\n",
      "<td><a href=\"/wiki/SpaceX\" title=\"SpaceX\">SpaceX</a>\n",
      "</td>\n",
      "F9 B5\n",
      "<td><a href=\"/wiki/SpaceX\" title=\"SpaceX\">SpaceX</a>\n",
      "</td>\n",
      "F9 B5\n",
      "<td><a href=\"/wiki/NASA\" title=\"NASA\">NASA</a> (<a href=\"/wiki/Commercial_Resupply_Services\" title=\"Commercial Resupply Services\">CRS</a>)\n",
      "</td>\n",
      "F9 B5\n",
      "<td><a href=\"/wiki/SpaceX\" title=\"SpaceX\">SpaceX</a>\n",
      "</td>\n",
      "F9 B5\n",
      "<td><a href=\"/wiki/SpaceX\" title=\"SpaceX\">SpaceX</a>\n",
      "</td>\n",
      "F9 B5\n",
      "<td><a href=\"/wiki/NASA\" title=\"NASA\">NASA</a> (<a class=\"mw-redirect\" href=\"/wiki/Commercial_Crew_Development\" title=\"Commercial Crew Development\">CCDev</a>)\n",
      "</td>\n",
      "F9 B5\n",
      "<td><a href=\"/wiki/SpaceX\" title=\"SpaceX\">SpaceX</a>\n",
      "</td>\n",
      "F9 B5\n",
      "<td><a href=\"/wiki/SpaceX\" title=\"SpaceX\">SpaceX</a><br/><a href=\"/wiki/Planet_Labs\" title=\"Planet Labs\">Planet Labs</a>\n",
      "</td>\n",
      "F9 B5\n",
      "<td><a href=\"/wiki/United_States_Space_Force\" title=\"United States Space Force\">U.S. Space Force</a><sup class=\"reference\" id=\"cite_ref-clark-20200630_542-1\"><a href=\"#cite_note-clark-20200630-542\">[530]</a></sup>\n",
      "</td>\n",
      "F9 B5B1058.2\n",
      "<td><a href=\"/wiki/Republic_of_Korea_Army\" title=\"Republic of Korea Army\">Republic of Korea Army</a>\n",
      "</td>\n",
      "F9 B5\n",
      "<td><a href=\"/wiki/SpaceX\" title=\"SpaceX\">SpaceX</a><br/><a href=\"/wiki/Spaceflight_Industries\" title=\"Spaceflight Industries\">Spaceflight Industries</a> (BlackSky)\n",
      "</td>\n",
      "F9 B5B1049.6\n",
      "<td><a href=\"/wiki/SpaceX\" title=\"SpaceX\">SpaceX</a><br/><a href=\"/wiki/Planet_Labs\" title=\"Planet Labs\">Planet Labs</a>\n",
      "</td>\n",
      "F9 B5\n",
      "<td><a class=\"mw-redirect\" href=\"/wiki/CONAE\" title=\"CONAE\">CONAE</a><br/><a class=\"new\" href=\"/w/index.php?title=PlanetIQ&amp;action=edit&amp;redlink=1\" title=\"PlanetIQ (page does not exist)\">PlanetIQ</a><br/><a href=\"/wiki/Tyvak\" title=\"Tyvak\">Tyvak</a>\n",
      "</td>\n",
      "F9 B5B1060.2\n",
      "<td><a href=\"/wiki/SpaceX\" title=\"SpaceX\">SpaceX</a>\n",
      "</td>\n",
      "F9 B5B1058.3\n",
      "<td><a href=\"/wiki/SpaceX\" title=\"SpaceX\">SpaceX</a>\n",
      "</td>\n",
      "F9 B5B1051.6\n",
      "<td><a href=\"/wiki/SpaceX\" title=\"SpaceX\">SpaceX</a>\n",
      "</td>\n",
      "F9 B5\n",
      "<td><a href=\"/wiki/SpaceX\" title=\"SpaceX\">SpaceX</a>\n",
      "</td>\n",
      "F9 B5\n",
      "<td><a href=\"/wiki/United_States_Space_Force\" title=\"United States Space Force\">USSF</a>\n",
      "</td>\n",
      "F9 B5\n",
      "<td><a href=\"/wiki/NASA\" title=\"NASA\">NASA</a> (<a href=\"/wiki/Commercial_Crew_Program\" title=\"Commercial Crew Program\">CCP</a>)<sup class=\"reference\" id=\"cite_ref-CCD6_509-1\"><a href=\"#cite_note-CCD6-509\">[497]</a></sup>\n",
      "</td>\n",
      "F9 B5\n",
      "<td><a href=\"/wiki/NASA\" title=\"NASA\">NASA</a> / <a class=\"mw-redirect\" href=\"/wiki/NOAA\" title=\"NOAA\">NOAA</a> / <a class=\"mw-redirect\" href=\"/wiki/ESA\" title=\"ESA\">ESA</a> / <a href=\"/wiki/EUMETSAT\" title=\"EUMETSAT\">EUMETSAT</a>\n",
      "</td>\n",
      "F9 B5 ♺\n",
      "<td><a href=\"/wiki/SpaceX\" title=\"SpaceX\">SpaceX</a>\n",
      "</td>\n",
      "F9 B5 ♺\n",
      "<td><a href=\"/wiki/NASA\" title=\"NASA\">NASA</a> (<a href=\"/wiki/Commercial_Resupply_Services\" title=\"Commercial Resupply Services\">CRS</a>)\n",
      "</td>\n",
      "F9 B5 ♺\n",
      "<td><a href=\"/wiki/Sirius_XM\" title=\"Sirius XM\">Sirius XM</a>\n",
      "</td>\n",
      "F9 B5 ♺\n",
      "<td><a href=\"/wiki/National_Reconnaissance_Office\" title=\"National Reconnaissance Office\">NRO</a>\n",
      "</td>\n",
      "F9 B5\n",
      "<td><a href=\"/wiki/T%C3%BCrksat_(company)\" title=\"Türksat (company)\">Türksat</a>\n",
      "</td>\n",
      "F9 B5B1051.8\n",
      "<td><a href=\"/wiki/SpaceX\" title=\"SpaceX\">SpaceX</a>\n",
      "</td>\n",
      "F9 B5B1058.5\n",
      "<td>Various\n",
      "</td>\n",
      "F9 B5 ♺\n",
      "<td><a href=\"/wiki/SpaceX\" title=\"SpaceX\">SpaceX</a>\n",
      "</td>\n",
      "F9 B5 ♺\n",
      "<td><a href=\"/wiki/SpaceX\" title=\"SpaceX\">SpaceX</a>\n",
      "</td>\n",
      "F9 B5 ♺\n",
      "<td><a href=\"/wiki/SpaceX\" title=\"SpaceX\">SpaceX</a>\n",
      "</td>\n",
      "F9 B5 ♺\n",
      "<td><a href=\"/wiki/SpaceX\" title=\"SpaceX\">SpaceX</a>\n",
      "</td>\n",
      "F9 B5 ♺\n",
      "<td><a href=\"/wiki/SpaceX\" title=\"SpaceX\">SpaceX</a>\n",
      "</td>\n",
      "F9 B5B1060.6\n",
      "<td><a href=\"/wiki/SpaceX\" title=\"SpaceX\">SpaceX</a>\n",
      "</td>\n",
      "F9 B5 ♺\n",
      "<td><a href=\"/wiki/SpaceX\" title=\"SpaceX\">SpaceX</a>\n",
      "</td>\n",
      "F9 B5B1061.2\n",
      "<td><a href=\"/wiki/NASA\" title=\"NASA\">NASA</a> (<a class=\"mw-redirect\" href=\"/wiki/ISS_Crew_Transportation_Services\" title=\"ISS Crew Transportation Services\">CTS</a>)<sup class=\"reference\" id=\"cite_ref-CCD6_509-2\"><a href=\"#cite_note-CCD6-509\">[497]</a></sup>\n",
      "</td>\n",
      "F9 B5B1060.7\n",
      "<td><a href=\"/wiki/SpaceX\" title=\"SpaceX\">SpaceX</a>\n",
      "</td>\n",
      "F9 B5B1049.9\n",
      "<td><a href=\"/wiki/SpaceX\" title=\"SpaceX\">SpaceX</a>\n",
      "</td>\n",
      "F9 B5B1051.10\n",
      "<td><a href=\"/wiki/SpaceX\" title=\"SpaceX\">SpaceX</a>\n",
      "</td>\n",
      "F9 B5B1058.8\n",
      "<td><a href=\"/wiki/SpaceX\" title=\"SpaceX\">SpaceX</a><br/> <a href=\"/wiki/Capella_Space\" title=\"Capella Space\">Capella Space</a> and <a href=\"/wiki/Tyvak\" title=\"Tyvak\">Tyvak</a>\n",
      "</td>\n",
      "F9 B5B1063.2\n",
      "<td><a href=\"/wiki/SpaceX\" title=\"SpaceX\">SpaceX</a>\n",
      "</td>\n",
      "F9 B5B1067.1\n",
      "<td><a href=\"/wiki/NASA\" title=\"NASA\">NASA</a> (<a href=\"/wiki/Commercial_Resupply_Services\" title=\"Commercial Resupply Services\">CRS</a>)\n",
      "</td>\n",
      "F9 B5\n",
      "<td><a href=\"/wiki/Sirius_XM\" title=\"Sirius XM\">Sirius XM</a>\n",
      "</td>\n"
     ]
    }
   ],
   "source": [
    "extracted_row = 0\n",
    "#Extract each table \n",
    "for table_number,table in enumerate(soup.find_all('table',\"wikitable plainrowheaders collapsible\")):\n",
    "   # get table row \n",
    "    for rows in table.find_all(\"tr\"):\n",
    "        #check to see if first table heading is as number corresponding to launch a number \n",
    "        if rows.th:\n",
    "            if rows.th.string:\n",
    "                flight_number=rows.th.string.strip()\n",
    "                flag=flight_number.isdigit()\n",
    "        else:\n",
    "            flag=False\n",
    "        #get table element \n",
    "        row=rows.find_all('td')\n",
    "        #if it is number save cells in a dictonary \n",
    "        if flag:\n",
    "            extracted_row += 1\n",
    "            # Flight Number value\n",
    "            # TODO: Append the flight_number into launch_dict with key `Flight No.`\n",
    "            launch_dict['Flight No.'].append(flight_number)\n",
    "            #print(flight_number)\n",
    "            datatimelist=date_time(row[0])\n",
    "            \n",
    "            \n",
    "            # Date value\n",
    "            # TODO: Append the date into launch_dict with key `Date`\n",
    "            date = datatimelist[0].strip(',')\n",
    "            launch_dict['Date'].append(date)\n",
    "            #print(date)\n",
    "            \n",
    "            # Time value\n",
    "            # TODO: Append the time into launch_dict with key `Time`\n",
    "            time = datatimelist[1]\n",
    "            launch_dict['Time'].append(time)\n",
    "            #print(time)\n",
    "              \n",
    "            # Booster version\n",
    "            # TODO: Append the bv into launch_dict with key `Version Booster`\n",
    "            bv=booster_version(row[1])\n",
    "            if not(bv):\n",
    "                bv=row[1].a.string\n",
    "            launch_dict['Version Booster'].append(bv)\n",
    "            print(bv)\n",
    "            \n",
    "            # Launch Site\n",
    "            # TODO: Append the bv into launch_dict with key `Launch Site`\n",
    "            launch_site = row[2].a.string\n",
    "            launch_dict['Launch site'].append(launch_site)\n",
    "            #print(launch_site)\n",
    "            \n",
    "            # Payload\n",
    "            # TODO: Append the payload into launch_dict with key `Payload`\n",
    "            payload = row[3].a.string\n",
    "            launch_dict['Payload'].append(payload)\n",
    "            #print(payload)\n",
    "            \n",
    "            # Payload Mass\n",
    "            # TODO: Append the payload_mass into launch_dict with key `Payload mass`\n",
    "            payload_mass = get_mass(row[4])\n",
    "            launch_dict['Payload mass'].append(payload_mass)\n",
    "            #print(payload)\n",
    "            \n",
    "            # Orbit\n",
    "            # TODO: Append the orbit into launch_dict with key `Orbit`\n",
    "            orbit = row[5].a.string\n",
    "            launch_dict['Orbit'].append(orbit)\n",
    "            #print(orbit)\n",
    "            \n",
    "            # Customer\n",
    "            # TODO: Append the customer into launch_dict with key `Customer`\n",
    "            print(row[6])\n",
    "            if row[6].a != None:\n",
    "                customer = row[6].a.string\n",
    "                launch_dict['Customer'].append(customer)\n",
    "            #print(customer)\n",
    "            \n",
    "            # Launch outcome\n",
    "            # TODO: Append the launch_outcome into launch_dict with key `Launch outcome`\n",
    "            launch_outcome = list(row[7].strings)[0]\n",
    "            launch_dict['Launch outcome'].append(launch_outcome)\n",
    "            #print(launch_outcome)\n",
    "            \n",
    "            # Booster landing\n",
    "            # TODO: Append the launch_outcome into launch_dict with key `Booster landing`\n",
    "            booster_landing = landing_status(row[8])\n",
    "            launch_dict['Booster landing'].append(booster_landing)\n",
    "            #print(booster_landing)\n",
    "            "
   ]
  },
  {
   "cell_type": "markdown",
   "metadata": {},
   "source": [
    "After you have fill in the parsed launch record values into `launch_dict`, you can create a dataframe from it.\n"
   ]
  },
  {
   "cell_type": "code",
   "execution_count": 40,
   "metadata": {
    "tags": []
   },
   "outputs": [],
   "source": [
    "df= pd.DataFrame({ key:pd.Series(value) for key, value in launch_dict.items() })"
   ]
  },
  {
   "cell_type": "markdown",
   "metadata": {},
   "source": [
    "We can now export it to a <b>CSV</b> for the next section, but to make the answers consistent and in case you have difficulties finishing this lab. \n",
    "\n",
    "Following labs will be using a provided dataset to make each lab independent. \n"
   ]
  },
  {
   "cell_type": "markdown",
   "metadata": {},
   "source": [
    "<code>df.to_csv('spacex_web_scraped.csv', index=False)</code>\n"
   ]
  },
  {
   "cell_type": "markdown",
   "metadata": {},
   "source": [
    "## Authors\n"
   ]
  },
  {
   "cell_type": "markdown",
   "metadata": {},
   "source": [
    "<a href=\"https://www.linkedin.com/in/yan-luo-96288783/\">Yan Luo</a>\n"
   ]
  },
  {
   "cell_type": "markdown",
   "metadata": {},
   "source": [
    "<a href=\"https://www.linkedin.com/in/nayefaboutayoun/\">Nayef Abou Tayoun</a>\n"
   ]
  },
  {
   "cell_type": "markdown",
   "metadata": {},
   "source": [
    "## Change Log\n"
   ]
  },
  {
   "cell_type": "markdown",
   "metadata": {},
   "source": [
    "| Date (YYYY-MM-DD) | Version | Changed By | Change Description      |\n",
    "| ----------------- | ------- | ---------- | ----------------------- |\n",
    "| 2021-06-09        | 1.0     | Yan Luo    | Tasks updates           |\n",
    "| 2020-11-10        | 1.0     | Nayef      | Created the initial version |\n"
   ]
  },
  {
   "cell_type": "markdown",
   "metadata": {},
   "source": [
    "Copyright © 2021 IBM Corporation. All rights reserved.\n"
   ]
  }
 ],
 "metadata": {
  "kernelspec": {
   "display_name": "Python",
   "language": "python",
   "name": "conda-env-python-py"
  },
  "language_info": {
   "codemirror_mode": {
    "name": "ipython",
    "version": 3
   },
   "file_extension": ".py",
   "mimetype": "text/x-python",
   "name": "python",
   "nbconvert_exporter": "python",
   "pygments_lexer": "ipython3",
   "version": "3.7.12"
  }
 },
 "nbformat": 4,
 "nbformat_minor": 4
}
